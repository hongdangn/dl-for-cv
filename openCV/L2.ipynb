{
 "cells": [
  {
   "cell_type": "code",
   "execution_count": 1,
   "metadata": {},
   "outputs": [],
   "source": [
    "import cv2\n",
    "import matplotlib.pyplot as plt"
   ]
  },
  {
   "cell_type": "markdown",
   "metadata": {},
   "source": [
    "## Resize image"
   ]
  },
  {
   "cell_type": "code",
   "execution_count": 2,
   "metadata": {},
   "outputs": [],
   "source": [
    "path_1 = \"C:/Users/HH/OneDrive - Hanoi University of Science and Technology/Downloads/_MHU6804.JPG\"\n",
    "path_2 = \"C:/Users/HH/OneDrive - Hanoi University of Science and Technology/Documents/Anh chan dung - anh thanh tich/DSC_0002.jpg\"\n",
    "\n",
    "def show_image(path):\n",
    "    image = cv2.imread(path)\n",
    "    cv2.imshow(\"image\", image)\n",
    "    cv2.waitKey(5000)\n",
    "    cv2.destroyAllWindows()\n",
    "\n",
    "show_image(path_2)"
   ]
  },
  {
   "cell_type": "code",
   "execution_count": 4,
   "metadata": {},
   "outputs": [
    {
     "name": "stdout",
     "output_type": "stream",
     "text": [
      "Original height =  945\n",
      "Original width =  630\n",
      "Original channels =  3\n"
     ]
    },
    {
     "data": {
      "text/plain": [
       "True"
      ]
     },
     "execution_count": 4,
     "metadata": {},
     "output_type": "execute_result"
    }
   ],
   "source": [
    "image = cv2.imread(path_2)\n",
    "height, width, channels = image.shape\n",
    "\n",
    "print(\"Original height = \", height)\n",
    "print(\"Original width = \", width)\n",
    "print(\"Original channels = \", channels)\n",
    "\n",
    "cv2.imwrite(\"Dang dung.jpg\", image)"
   ]
  },
  {
   "cell_type": "markdown",
   "metadata": {},
   "source": [
    "### Resize by specifying width and height"
   ]
  },
  {
   "cell_type": "code",
   "execution_count": 29,
   "metadata": {},
   "outputs": [],
   "source": [
    "height_resize, width_resize = 1000, 800\n",
    "new_shape = (width_resize, height_resize)\n",
    "\n",
    "image_resized = cv2.resize(image, new_shape)\n",
    "cv2.imshow(\"resized\", image_resized)\n",
    "cv2.waitKey(5000)\n",
    "cv2.destroyAllWindows()"
   ]
  },
  {
   "cell_type": "markdown",
   "metadata": {},
   "source": [
    "### Resize with a scaling factor "
   ]
  },
  {
   "cell_type": "code",
   "execution_count": 37,
   "metadata": {},
   "outputs": [],
   "source": [
    "scale_width = 1.4\n",
    "scale_height = 1.2\n",
    "\n",
    "scaled_image = cv2.resize(image, None, fx = scale_width, fy = scale_height)\n",
    "cv2.imshow(\"scaled_image\", scaled_image)\n",
    "cv2.waitKey()\n",
    "cv2.destroyAllWindows()"
   ]
  },
  {
   "cell_type": "code",
   "execution_count": 38,
   "metadata": {},
   "outputs": [
    {
     "name": "stdout",
     "output_type": "stream",
     "text": [
      "Height =  1134\n",
      "width =  882\n"
     ]
    }
   ],
   "source": [
    "height, width, channels = scaled_image.shape\n",
    "print(\"Height = \", height)\n",
    "print(\"width = \", width)"
   ]
  }
 ],
 "metadata": {
  "kernelspec": {
   "display_name": "Python 3",
   "language": "python",
   "name": "python3"
  },
  "language_info": {
   "codemirror_mode": {
    "name": "ipython",
    "version": 3
   },
   "file_extension": ".py",
   "mimetype": "text/x-python",
   "name": "python",
   "nbconvert_exporter": "python",
   "pygments_lexer": "ipython3",
   "version": "3.9.8"
  }
 },
 "nbformat": 4,
 "nbformat_minor": 2
}
