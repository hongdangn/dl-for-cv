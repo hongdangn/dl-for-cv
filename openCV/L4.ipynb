{
 "cells": [
  {
   "cell_type": "code",
   "execution_count": 18,
   "metadata": {},
   "outputs": [],
   "source": [
    "import cv2\n",
    "import matplotlib.pyplot as plt\n",
    "import numpy as np"
   ]
  },
  {
   "cell_type": "markdown",
   "metadata": {},
   "source": [
    "## Image Translation and Rotation Using OpenCV\n"
   ]
  },
  {
   "cell_type": "code",
   "execution_count": 3,
   "metadata": {},
   "outputs": [],
   "source": [
    "path_1 = \"C:/Users/HH/OneDrive - Hanoi University of Science and Technology/Downloads/_MHU6804.JPG\"\n",
    "\n",
    "image = cv2.imread(path_1)\n",
    "cv2.imshow(\"image\", image)\n",
    "cv2.waitKey(5000)\n",
    "cv2.destroyAllWindows()"
   ]
  },
  {
   "cell_type": "code",
   "execution_count": 6,
   "metadata": {},
   "outputs": [],
   "source": [
    "resized = cv2.resize(image, (700, 600))\n",
    "cv2.imshow(\"image\", resized)\n",
    "cv2.waitKey(0)\n",
    "cv2.destroyAllWindows()"
   ]
  },
  {
   "cell_type": "markdown",
   "metadata": {},
   "source": [
    "### Rotation"
   ]
  },
  {
   "cell_type": "code",
   "execution_count": 17,
   "metadata": {},
   "outputs": [],
   "source": [
    "height, width = resized.shape[:2]\n",
    "center = (width//2, height//2)\n",
    "\n",
    "'''angle is positive: the image gets rotated in the counter-clockwise direction. \n",
    "   angle is negative: the image clockwise by the same amount'''\n",
    "rotate_matrix = cv2.getRotationMatrix2D(center = center, angle = -45, scale = 1)\n",
    "rotate_image = cv2.warpAffine(resized, rotate_matrix, (width, height))\n",
    "\n",
    "cv2.imshow(\"rotation\", rotate_image)\n",
    "cv2.waitKey(0)\n",
    "cv2.destroyAllWindows()"
   ]
  },
  {
   "cell_type": "markdown",
   "metadata": {},
   "source": [
    "### Translation"
   ]
  },
  {
   "cell_type": "code",
   "execution_count": 23,
   "metadata": {},
   "outputs": [],
   "source": [
    "'''\n",
    "    Let the pixels by which the image needs to shifted be tx and ty. \n",
    "    Then you can define a translation matrix M:\n",
    "                    M = [1 0 tx\n",
    "                         0 1 ty]\n",
    "    tx: positive - shift the image to the right, reversion.\n",
    "    ty: positive - shift the image down, reversion.\n",
    "'''\n",
    "translation_matrix = np.array([\n",
    "    [1, 0, width/4],\n",
    "    [0, 1, height/4]\n",
    "])\n",
    "translation_image = cv2.warpAffine(resized, translation_matrix, (width, height))\n",
    "\n",
    "cv2.imshow(\"translation\", translation_image)\n",
    "cv2.waitKey(0)\n",
    "cv2.destroyAllWindows()\n"
   ]
  }
 ],
 "metadata": {
  "kernelspec": {
   "display_name": "Python 3",
   "language": "python",
   "name": "python3"
  },
  "language_info": {
   "codemirror_mode": {
    "name": "ipython",
    "version": 3
   },
   "file_extension": ".py",
   "mimetype": "text/x-python",
   "name": "python",
   "nbconvert_exporter": "python",
   "pygments_lexer": "ipython3",
   "version": "3.9.8"
  }
 },
 "nbformat": 4,
 "nbformat_minor": 2
}
