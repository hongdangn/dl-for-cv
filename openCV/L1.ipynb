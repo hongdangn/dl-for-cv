{
 "cells": [
  {
   "cell_type": "code",
   "execution_count": 1,
   "metadata": {},
   "outputs": [],
   "source": [
    "import cv2\n",
    "import matplotlib.pyplot as plt"
   ]
  },
  {
   "cell_type": "markdown",
   "metadata": {},
   "source": [
    "## Read, show image"
   ]
  },
  {
   "cell_type": "code",
   "execution_count": 2,
   "metadata": {},
   "outputs": [],
   "source": [
    "path = \"C:/Users/HH/OneDrive - Hanoi University of Science and Technology/Documents/Anh chan dung - anh thanh tich/DSC_0002.jpg\"\n",
    "\n",
    "image = cv2.imread(path, cv2.IMREAD_GRAYSCALE)\n",
    "\n",
    "cv2.imshow(\"image\", image)\n",
    "cv2.waitKey(5000)\n",
    "cv2.destroyAllWindows()"
   ]
  },
  {
   "cell_type": "markdown",
   "metadata": {},
   "source": [
    "## Read, show video"
   ]
  },
  {
   "cell_type": "markdown",
   "metadata": {},
   "source": [
    "### From file"
   ]
  },
  {
   "cell_type": "code",
   "execution_count": 22,
   "metadata": {},
   "outputs": [
    {
     "name": "stdout",
     "output_type": "stream",
     "text": [
      "FPS =  30.0\n",
      "Number of frames =  13026.0\n"
     ]
    }
   ],
   "source": [
    "new_path = \"C:/Users/HH/OneDrive - Hanoi University of Science and Technology/Documents/Ky nang mem/BTN1_IntroVideo.mp4\"\n",
    "\n",
    "video = cv2.VideoCapture(new_path)\n",
    "\n",
    "fps = video.get(5)\n",
    "print(\"FPS = \", fps)\n",
    "\n",
    "num_frames = video.get(7)\n",
    "print(\"Number of frames = \", num_frames)\n",
    "\n",
    "while video.isOpened():\n",
    "    bool, frame = video.read()\n",
    "    if bool == True:\n",
    "        cv2.imshow(\"video\", frame)\n",
    "        key = cv2.waitKey(20)\n",
    "        if key == ord('d'):\n",
    "            break\n",
    "    else:\n",
    "        break\n",
    "\n",
    "video.release()\n",
    "cv2.destroyAllWindows()"
   ]
  },
  {
   "cell_type": "markdown",
   "metadata": {},
   "source": [
    "### From webcam"
   ]
  },
  {
   "cell_type": "code",
   "execution_count": 3,
   "metadata": {},
   "outputs": [],
   "source": [
    "vid = cv2.VideoCapture(0)\n",
    "\n",
    "while True:\n",
    "    boolean, frame = vid.read()\n",
    "    if boolean == True:\n",
    "        cv2.imshow(\"video\", frame)\n",
    "        if cv2.waitKey(20) == ord(\"h\"):\n",
    "            break\n",
    "    else:\n",
    "        break\n",
    "\n",
    "vid.release()\n",
    "cv2.destroyAllWindows()"
   ]
  }
 ],
 "metadata": {
  "kernelspec": {
   "display_name": "Python 3",
   "language": "python",
   "name": "python3"
  },
  "language_info": {
   "codemirror_mode": {
    "name": "ipython",
    "version": 3
   },
   "file_extension": ".py",
   "mimetype": "text/x-python",
   "name": "python",
   "nbconvert_exporter": "python",
   "pygments_lexer": "ipython3",
   "version": "3.9.8"
  }
 },
 "nbformat": 4,
 "nbformat_minor": 2
}
