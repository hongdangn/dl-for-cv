{
  "nbformat": 4,
  "nbformat_minor": 0,
  "metadata": {
    "colab": {
      "provenance": []
    },
    "kernelspec": {
      "name": "python3",
      "display_name": "Python 3"
    },
    "language_info": {
      "name": "python"
    }
  },
  "cells": [
    {
      "cell_type": "code",
      "execution_count": 1,
      "metadata": {
        "id": "0fm2AYoIwSCe"
      },
      "outputs": [],
      "source": [
        "import tensorflow as tf\n",
        "import keras\n",
        "from keras.layers import Dense, Conv2D, Dropout, BatchNormalization, MaxPooling2D, Flatten, Input\n",
        "from keras.models import Sequential, Model\n",
        "from keras.layers import Layer\n",
        "import numpy as np\n",
        "import matplotlib.pyplot as plt\n",
        "import os\n",
        "from keras.preprocessing.image import img_to_array, load_img\n"
      ]
    },
    {
      "cell_type": "code",
      "source": [
        "from google.colab import drive\n",
        "drive.mount(\"/content/drive\")\n"
      ],
      "metadata": {
        "colab": {
          "base_uri": "https://localhost:8080/"
        },
        "id": "tm4NGoOKbH_9",
        "outputId": "24daa285-8315-429e-e4c3-1f88bc204ea7"
      },
      "execution_count": 2,
      "outputs": [
        {
          "output_type": "stream",
          "name": "stdout",
          "text": [
            "Mounted at /content/drive\n"
          ]
        }
      ]
    },
    {
      "cell_type": "code",
      "source": [
        "path = \"/content/drive/MyDrive/data/Dataset/\"\n",
        "train, test = \"Train\", \"Test\"\n",
        "train_path = path + train\n",
        "test_path = path + test\n",
        "\n",
        "def images_to_tensor(folder_path):\n",
        "  images, target = [], []\n",
        "  for id, label in enumerate(os.listdir(folder_path)):\n",
        "    label_path = os.path.join(folder_path, label)\n",
        "    for filename in os.listdir(label_path):\n",
        "      file_path = os.path.join(label_path, filename)\n",
        "      image = load_img(file_path, target_size = (224, 224))\n",
        "      image = img_to_array(image)\n",
        "      images.append(image)\n",
        "      target.append(id)\n",
        "  return tf.convert_to_tensor(images), target\n"
      ],
      "metadata": {
        "id": "7L2JNftrbtEb"
      },
      "execution_count": 3,
      "outputs": []
    },
    {
      "cell_type": "code",
      "source": [
        "# Use the Image Data Generator to import the images from the dataset\n",
        "from keras.preprocessing.image import ImageDataGenerator\n",
        "\n",
        "train_datagen = ImageDataGenerator(rescale = 1./255,\n",
        "                                   shear_range = 0.2,\n",
        "                                   zoom_range = 0.2,\n",
        "                                   horizontal_flip = True)\n",
        "\n",
        "test_datagen = ImageDataGenerator(rescale = 1./255)\n",
        "\n",
        "training_set = train_datagen.flow_from_directory(train_path,\n",
        "                                                 target_size = (224, 224),\n",
        "                                                 batch_size = 32,\n",
        "                                                 class_mode = 'categorical')\n",
        "test_set = test_datagen.flow_from_directory(test_path,\n",
        "                                            target_size = (224, 224),\n",
        "                                            batch_size = 32,\n",
        "                                            class_mode = 'categorical')\n"
      ],
      "metadata": {
        "colab": {
          "base_uri": "https://localhost:8080/"
        },
        "id": "fMWW_13GDMb0",
        "outputId": "3458c86e-ccf4-4024-aaf9-b3270e06aedc"
      },
      "execution_count": 4,
      "outputs": [
        {
          "output_type": "stream",
          "name": "stdout",
          "text": [
            "Found 416 images belonging to 2 classes.\n",
            "Found 134 images belonging to 2 classes.\n"
          ]
        }
      ]
    },
    {
      "cell_type": "markdown",
      "source": [
        "## Build from scratch"
      ],
      "metadata": {
        "id": "VOE5e723XMi7"
      }
    },
    {
      "cell_type": "code",
      "source": [
        "model = Sequential()\n",
        "\n",
        "model.add(Conv2D(filters = 32, kernel_size = 3, strides = 1, padding = 'same', activation = 'relu', input_shape = (224, 224, 3)))\n",
        "model.add(MaxPooling2D(pool_size = 2))\n",
        "model.add(BatchNormalization())\n",
        "\n",
        "model.add(Conv2D(filters = 64, kernel_size = 3, strides = 1, padding = 'same', activation = 'relu'))\n",
        "model.add(MaxPooling2D(pool_size = 2))\n",
        "model.add(BatchNormalization())\n",
        "\n",
        "model.add(Flatten())\n",
        "model.add(Dense(units = 100, activation = 'relu'))\n",
        "model.add(Dense(units = 2, activation = 'softmax'))\n",
        "model.summary()\n"
      ],
      "metadata": {
        "colab": {
          "base_uri": "https://localhost:8080/"
        },
        "id": "psq1SHZBLSef",
        "outputId": "dd0d53f9-7253-463f-98af-9732e7b499e9"
      },
      "execution_count": 18,
      "outputs": [
        {
          "output_type": "stream",
          "name": "stdout",
          "text": [
            "Model: \"sequential_1\"\n",
            "_________________________________________________________________\n",
            " Layer (type)                Output Shape              Param #   \n",
            "=================================================================\n",
            " conv2d_2 (Conv2D)           (None, 224, 224, 32)      896       \n",
            "                                                                 \n",
            " max_pooling2d_2 (MaxPoolin  (None, 112, 112, 32)      0         \n",
            " g2D)                                                            \n",
            "                                                                 \n",
            " batch_normalization_2 (Bat  (None, 112, 112, 32)      128       \n",
            " chNormalization)                                                \n",
            "                                                                 \n",
            " conv2d_3 (Conv2D)           (None, 112, 112, 64)      18496     \n",
            "                                                                 \n",
            " max_pooling2d_3 (MaxPoolin  (None, 56, 56, 64)        0         \n",
            " g2D)                                                            \n",
            "                                                                 \n",
            " batch_normalization_3 (Bat  (None, 56, 56, 64)        256       \n",
            " chNormalization)                                                \n",
            "                                                                 \n",
            " flatten_1 (Flatten)         (None, 200704)            0         \n",
            "                                                                 \n",
            " dense_2 (Dense)             (None, 100)               20070500  \n",
            "                                                                 \n",
            " dense_3 (Dense)             (None, 2)                 202       \n",
            "                                                                 \n",
            "=================================================================\n",
            "Total params: 20090478 (76.64 MB)\n",
            "Trainable params: 20090286 (76.64 MB)\n",
            "Non-trainable params: 192 (768.00 Byte)\n",
            "_________________________________________________________________\n"
          ]
        }
      ]
    },
    {
      "cell_type": "code",
      "source": [
        "model.compile(optimizer = 'Adam', loss = keras.losses.categorical_crossentropy, metrics = ['accuracy'])"
      ],
      "metadata": {
        "id": "UC28fWDMPChY"
      },
      "execution_count": 19,
      "outputs": []
    },
    {
      "cell_type": "code",
      "source": [
        "h = model.fit(training_set, batch_size = 32, epochs = 10, validation_data = test_set, verbose = 1)"
      ],
      "metadata": {
        "colab": {
          "base_uri": "https://localhost:8080/"
        },
        "id": "r-K-gVJJSoSe",
        "outputId": "646b2d69-6acf-4acb-e43d-38d6a72f392c"
      },
      "execution_count": 21,
      "outputs": [
        {
          "output_type": "stream",
          "name": "stdout",
          "text": [
            "Epoch 1/10\n",
            "13/13 [==============================] - 53s 4s/step - loss: 12.4038 - accuracy: 0.6971 - val_loss: 2.3665 - val_accuracy: 0.6791\n",
            "Epoch 2/10\n",
            "13/13 [==============================] - 71s 6s/step - loss: 1.0138 - accuracy: 0.5529 - val_loss: 0.6937 - val_accuracy: 0.6567\n",
            "Epoch 3/10\n",
            "13/13 [==============================] - 75s 6s/step - loss: 0.6251 - accuracy: 0.5337 - val_loss: 0.6931 - val_accuracy: 0.6791\n",
            "Epoch 4/10\n",
            "13/13 [==============================] - 81s 6s/step - loss: 0.5645 - accuracy: 0.7019 - val_loss: 0.6971 - val_accuracy: 0.3209\n",
            "Epoch 5/10\n",
            "13/13 [==============================] - 69s 5s/step - loss: 0.5408 - accuracy: 0.7740 - val_loss: 0.7060 - val_accuracy: 0.3209\n",
            "Epoch 6/10\n",
            "13/13 [==============================] - 61s 4s/step - loss: 0.5055 - accuracy: 0.7692 - val_loss: 0.7276 - val_accuracy: 0.3209\n",
            "Epoch 7/10\n",
            "13/13 [==============================] - 53s 4s/step - loss: 0.5748 - accuracy: 0.7644 - val_loss: 0.6921 - val_accuracy: 0.3582\n",
            "Epoch 8/10\n",
            "13/13 [==============================] - 57s 4s/step - loss: 0.5332 - accuracy: 0.7380 - val_loss: 0.6897 - val_accuracy: 0.3657\n",
            "Epoch 9/10\n",
            "13/13 [==============================] - 51s 4s/step - loss: 0.5209 - accuracy: 0.7716 - val_loss: 0.7524 - val_accuracy: 0.3209\n",
            "Epoch 10/10\n",
            "13/13 [==============================] - 52s 4s/step - loss: 0.5251 - accuracy: 0.7524 - val_loss: 0.8305 - val_accuracy: 0.3209\n"
          ]
        }
      ]
    },
    {
      "cell_type": "code",
      "source": [
        "model.evaluate(test_set)"
      ],
      "metadata": {
        "colab": {
          "base_uri": "https://localhost:8080/"
        },
        "id": "Ilt_AzXGnT9l",
        "outputId": "537207f8-dffb-4147-9b20-a8b3445c570b"
      },
      "execution_count": 22,
      "outputs": [
        {
          "output_type": "stream",
          "name": "stdout",
          "text": [
            "5/5 [==============================] - 4s 663ms/step - loss: 0.8305 - accuracy: 0.3209\n"
          ]
        },
        {
          "output_type": "execute_result",
          "data": {
            "text/plain": [
              "[0.8304767608642578, 0.3208955228328705]"
            ]
          },
          "metadata": {},
          "execution_count": 22
        }
      ]
    },
    {
      "cell_type": "code",
      "source": [
        "plt.imshow(training_set[0][0][5])\n",
        "training_set[0][1][5]"
      ],
      "metadata": {
        "colab": {
          "base_uri": "https://localhost:8080/",
          "height": 451
        },
        "id": "8RYd0SL21M5R",
        "outputId": "1082628d-861e-45bf-e2c3-f9e0f23bdbde"
      },
      "execution_count": null,
      "outputs": [
        {
          "output_type": "execute_result",
          "data": {
            "text/plain": [
              "array([0., 1.], dtype=float32)"
            ]
          },
          "metadata": {},
          "execution_count": 34
        },
        {
          "output_type": "display_data",
          "data": {
            "text/plain": [
              "<Figure size 640x480 with 1 Axes>"
            ],
            "image/png": "[encoded data removed]"
          },
          "metadata": {}
        }
      ]
    },
    {
      "cell_type": "code",
      "source": [
        "plt.plot(h.history['loss'], c = 'blue', label = 'train')\n",
        "plt.plot(h.history['val_loss'], c= 'orange', label = 'test')\n",
        "plt.xlabel('epochs')\n",
        "plt.ylabel('loss')\n",
        "plt.legend()\n",
        "plt.show()"
      ],
      "metadata": {
        "colab": {
          "base_uri": "https://localhost:8080/",
          "height": 449
        },
        "id": "WDTuMC6yEumD",
        "outputId": "1138351e-30ae-4fed-d3bc-e51e1fba0123"
      },
      "execution_count": 23,
      "outputs": [
        {
          "output_type": "display_data",
          "data": {
            "text/plain": [
              "<Figure size 640x480 with 1 Axes>"
            ],
            "image/png": "[encoded data removed]"
          },
          "metadata": {}
        }
      ]
    },
    {
      "cell_type": "markdown",
      "source": [
        "## Transfer Learning"
      ],
      "metadata": {
        "id": "Pv4NgclkXR1Y"
      }
    },
    {
      "cell_type": "code",
      "source": [
        "from keras.applications.vgg16 import VGG16\n",
        "from keras.models import Model"
      ],
      "metadata": {
        "id": "5tmTf3AQoSU3"
      },
      "execution_count": null,
      "outputs": []
    },
    {
      "cell_type": "code",
      "source": [
        "vggnet = VGG16(input_shape = (224, 224, 3), weights = 'imagenet', include_top = False)\n",
        "# don't train existing weights\n",
        "for layer in vggnet.layers:\n",
        "  layer.trainable = False"
      ],
      "metadata": {
        "colab": {
          "base_uri": "https://localhost:8080/"
        },
        "id": "hjjPChT8pXXW",
        "outputId": "0ff780d3-5d88-4285-d47c-b78412d81201"
      },
      "execution_count": null,
      "outputs": [
        {
          "output_type": "stream",
          "name": "stdout",
          "text": [
            "Downloading data from https://storage.googleapis.com/tensorflow/keras-applications/vgg16/vgg16_weights_tf_dim_ordering_tf_kernels_notop.h5\n",
            "58889256/58889256 [==============================] - 0s 0us/step\n"
          ]
        }
      ]
    },
    {
      "cell_type": "code",
      "source": [
        "x = Flatten()(vggnet.output)\n",
        "prediction = Dense(2, activation = 'softmax')(x)\n",
        "model = Model(inputs = vggnet.input, outputs = prediction)\n",
        "model.summary()"
      ],
      "metadata": {
        "colab": {
          "base_uri": "https://localhost:8080/"
        },
        "id": "CHrzRM0oEmj0",
        "outputId": "9af10ef3-1324-4f4c-c271-4c624aa3be51"
      },
      "execution_count": null,
      "outputs": [
        {
          "output_type": "stream",
          "name": "stdout",
          "text": [
            "Model: \"model\"\n",
            "_________________________________________________________________\n",
            " Layer (type)                Output Shape              Param #   \n",
            "=================================================================\n",
            " input_1 (InputLayer)        [(None, 224, 224, 3)]     0         \n",
            "                                                                 \n",
            " block1_conv1 (Conv2D)       (None, 224, 224, 64)      1792      \n",
            "                                                                 \n",
            " block1_conv2 (Conv2D)       (None, 224, 224, 64)      36928     \n",
            "                                                                 \n",
            " block1_pool (MaxPooling2D)  (None, 112, 112, 64)      0         \n",
            "                                                                 \n",
            " block2_conv1 (Conv2D)       (None, 112, 112, 128)     73856     \n",
            "                                                                 \n",
            " block2_conv2 (Conv2D)       (None, 112, 112, 128)     147584    \n",
            "                                                                 \n",
            " block2_pool (MaxPooling2D)  (None, 56, 56, 128)       0         \n",
            "                                                                 \n",
            " block3_conv1 (Conv2D)       (None, 56, 56, 256)       295168    \n",
            "                                                                 \n",
            " block3_conv2 (Conv2D)       (None, 56, 56, 256)       590080    \n",
            "                                                                 \n",
            " block3_conv3 (Conv2D)       (None, 56, 56, 256)       590080    \n",
            "                                                                 \n",
            " block3_pool (MaxPooling2D)  (None, 28, 28, 256)       0         \n",
            "                                                                 \n",
            " block4_conv1 (Conv2D)       (None, 28, 28, 512)       1180160   \n",
            "                                                                 \n",
            " block4_conv2 (Conv2D)       (None, 28, 28, 512)       2359808   \n",
            "                                                                 \n",
            " block4_conv3 (Conv2D)       (None, 28, 28, 512)       2359808   \n",
            "                                                                 \n",
            " block4_pool (MaxPooling2D)  (None, 14, 14, 512)       0         \n",
            "                                                                 \n",
            " block5_conv1 (Conv2D)       (None, 14, 14, 512)       2359808   \n",
            "                                                                 \n",
            " block5_conv2 (Conv2D)       (None, 14, 14, 512)       2359808   \n",
            "                                                                 \n",
            " block5_conv3 (Conv2D)       (None, 14, 14, 512)       2359808   \n",
            "                                                                 \n",
            " block5_pool (MaxPooling2D)  (None, 7, 7, 512)         0         \n",
            "                                                                 \n",
            " flatten (Flatten)           (None, 25088)             0         \n",
            "                                                                 \n",
            " dense (Dense)               (None, 2)                 50178     \n",
            "                                                                 \n",
            "=================================================================\n",
            "Total params: 14764866 (56.32 MB)\n",
            "Trainable params: 50178 (196.01 KB)\n",
            "Non-trainable params: 14714688 (56.13 MB)\n",
            "_________________________________________________________________\n"
          ]
        }
      ]
    },
    {
      "cell_type": "code",
      "source": [
        "model.compile(optimizer = 'adam', loss = 'categorical_crossentropy', metrics = 'accuracy')"
      ],
      "metadata": {
        "id": "kpco9qwVHQe0"
      },
      "execution_count": null,
      "outputs": []
    },
    {
      "cell_type": "code",
      "source": [
        "h = model.fit(training_set, batch_size = 32, epochs = 10, validation_data = test_set)"
      ],
      "metadata": {
        "colab": {
          "base_uri": "https://localhost:8080/"
        },
        "id": "p6yBFRnhNPAm",
        "outputId": "eb21756f-231b-4332-c4c9-cb7ee84ac8a0"
      },
      "execution_count": null,
      "outputs": [
        {
          "output_type": "stream",
          "name": "stdout",
          "text": [
            "Epoch 1/10\n",
            "13/13 [==============================] - 350s 27s/step - loss: 0.1666 - accuracy: 0.9543 - val_loss: 0.2616 - val_accuracy: 0.8881\n",
            "Epoch 2/10\n",
            "13/13 [==============================] - 351s 27s/step - loss: 0.1564 - accuracy: 0.9591 - val_loss: 0.2949 - val_accuracy: 0.8657\n",
            "Epoch 3/10\n",
            "13/13 [==============================] - 318s 25s/step - loss: 0.1456 - accuracy: 0.9736 - val_loss: 0.2112 - val_accuracy: 0.9254\n",
            "Epoch 4/10\n",
            "13/13 [==============================] - 357s 28s/step - loss: 0.1391 - accuracy: 0.9663 - val_loss: 0.2245 - val_accuracy: 0.9030\n",
            "Epoch 5/10\n",
            "13/13 [==============================] - 353s 27s/step - loss: 0.1618 - accuracy: 0.9519 - val_loss: 0.3521 - val_accuracy: 0.8134\n",
            "Epoch 6/10\n",
            "13/13 [==============================] - 307s 24s/step - loss: 0.1351 - accuracy: 0.9591 - val_loss: 0.2427 - val_accuracy: 0.8881\n",
            "Epoch 7/10\n",
            "13/13 [==============================] - 306s 24s/step - loss: 0.1305 - accuracy: 0.9663 - val_loss: 0.2936 - val_accuracy: 0.8657\n",
            "Epoch 8/10\n",
            "13/13 [==============================] - 294s 23s/step - loss: 0.1280 - accuracy: 0.9639 - val_loss: 0.4346 - val_accuracy: 0.7985\n",
            "Epoch 9/10\n",
            "13/13 [==============================] - 304s 24s/step - loss: 0.1359 - accuracy: 0.9543 - val_loss: 0.3004 - val_accuracy: 0.8358\n",
            "Epoch 10/10\n",
            "13/13 [==============================] - 307s 24s/step - loss: 0.1187 - accuracy: 0.9688 - val_loss: 0.1911 - val_accuracy: 0.9403\n"
          ]
        }
      ]
    },
    {
      "cell_type": "code",
      "source": [
        "plt.plot(h.history['loss'], c = 'yellow', label = 'train')\n",
        "plt.plot(h.history['val_loss'], c = 'blue', label = 'test')\n",
        "plt.xlabel('epochs')\n",
        "plt.ylabel('loss')\n",
        "plt.style.use('dark_background')\n",
        "plt.show()\n",
        "plt.legend()"
      ],
      "metadata": {
        "colab": {
          "base_uri": "https://localhost:8080/",
          "height": 927
        },
        "id": "S6XJmoSMtHtv",
        "outputId": "68b2fbe0-83e1-4ec2-a75c-13cf7eab37ee"
      },
      "execution_count": null,
      "outputs": [
        {
          "output_type": "display_data",
          "data": {
            "text/plain": [
              "<Figure size 640x480 with 1 Axes>"
            ],
            "image/png": "[encoded data removed]"
          },
          "metadata": {}
        },
        {
          "output_type": "stream",
          "name": "stderr",
          "text": [
            "WARNING:matplotlib.legend:No artists with labels found to put in legend.  Note that artists whose label start with an underscore are ignored when legend() is called with no argument.\n"
          ]
        },
        {
          "output_type": "execute_result",
          "data": {
            "text/plain": [
              "<matplotlib.legend.Legend at 0x7b6fa32f81c0>"
            ]
          },
          "metadata": {},
          "execution_count": 16
        },
        {
          "output_type": "display_data",
          "data": {
            "text/plain": [
              "<Figure size 640x480 with 1 Axes>"
            ],
            "image/png": "[encoded data removed]"
          },
          "metadata": {}
        }
      ]
    },
    {
      "cell_type": "markdown",
      "source": [
        "## Functional API"
      ],
      "metadata": {
        "id": "NYp5ls-gtubi"
      }
    },
    {
      "cell_type": "code",
      "source": [
        "input = Input(shape = (224, 224, 3), name = \"dang\")\n",
        "\n",
        "x = Conv2D(filters = 16, kernel_size = 3, strides = 1, padding = 'valid', activation = 'relu')(input)\n",
        "x = MaxPooling2D(pool_size = 2)(x)\n",
        "x = BatchNormalization()(x)\n",
        "\n",
        "x = Conv2D(filters = 32, kernel_size = 3, strides = 1, padding = 'valid', activation = 'relu')(x)\n",
        "x = MaxPooling2D(pool_size = 2)(x)\n",
        "output = BatchNormalization()(x)\n",
        "\n",
        "feature_extractor = Model(inputs = input, outputs = output)"
      ],
      "metadata": {
        "id": "yX0jBckitsxU"
      },
      "execution_count": null,
      "outputs": []
    },
    {
      "cell_type": "code",
      "source": [
        "input = Input(shape = (224, 224, 3), name = 'dang nguyen')\n",
        "\n",
        "x = feature_extractor(input)\n",
        "x = Flatten()(x)\n",
        "x = Dense(64, activation = 'relu')(x)\n",
        "x = BatchNormalization()(x)\n",
        "\n",
        "last_output = Dense(2, activation = 'softmax')(x)\n",
        "model = Model(inputs = input, outputs = last_output)\n",
        "model.summary()"
      ],
      "metadata": {
        "id": "dt7FqDt89Toh",
        "colab": {
          "base_uri": "https://localhost:8080/"
        },
        "outputId": "64930615-6f78-40fa-d8a3-81148d74a52c"
      },
      "execution_count": null,
      "outputs": [
        {
          "output_type": "stream",
          "name": "stdout",
          "text": [
            "Model: \"model_4\"\n",
            "_________________________________________________________________\n",
            " Layer (type)                Output Shape              Param #   \n",
            "=================================================================\n",
            " dang nguyen (InputLayer)    [(None, 224, 224, 3)]     0         \n",
            "                                                                 \n",
            " model (Functional)          (None, 54, 54, 32)        5280      \n",
            "                                                                 \n",
            " flatten_4 (Flatten)         (None, 93312)             0         \n",
            "                                                                 \n",
            " dense_8 (Dense)             (None, 64)                5972032   \n",
            "                                                                 \n",
            " batch_normalization_7 (Bat  (None, 64)                256       \n",
            " chNormalization)                                                \n",
            "                                                                 \n",
            " dense_9 (Dense)             (None, 2)                 130       \n",
            "                                                                 \n",
            "=================================================================\n",
            "Total params: 5977698 (22.80 MB)\n",
            "Trainable params: 5977474 (22.80 MB)\n",
            "Non-trainable params: 224 (896.00 Byte)\n",
            "_________________________________________________________________\n"
          ]
        }
      ]
    },
    {
      "cell_type": "code",
      "source": [
        "model.compile(optimizer = 'SGD', loss = keras.losses.categorical_crossentropy, metrics = 'accuracy')"
      ],
      "metadata": {
        "id": "NNu2NgIf7bkP"
      },
      "execution_count": null,
      "outputs": []
    },
    {
      "cell_type": "code",
      "source": [
        "model.fit(training_set, batch_size = 32, epochs = 10, validation_data = test_set)"
      ],
      "metadata": {
        "id": "TvyO1PIB8Mog",
        "colab": {
          "base_uri": "https://localhost:8080/"
        },
        "outputId": "b2f683fb-3761-4ead-99e4-9ece08dcb92b"
      },
      "execution_count": null,
      "outputs": [
        {
          "output_type": "stream",
          "name": "stdout",
          "text": [
            "Epoch 1/10\n",
            "13/13 [==============================] - 189s 15s/step - loss: 0.7015 - accuracy: 0.6899 - val_loss: 0.6633 - val_accuracy: 0.6791\n",
            "Epoch 2/10\n",
            "13/13 [==============================] - 26s 2s/step - loss: 0.4736 - accuracy: 0.7716 - val_loss: 0.6581 - val_accuracy: 0.6567\n",
            "Epoch 3/10\n",
            "13/13 [==============================] - 26s 2s/step - loss: 0.4157 - accuracy: 0.7812 - val_loss: 0.6367 - val_accuracy: 0.6791\n",
            "Epoch 4/10\n",
            "13/13 [==============================] - 26s 2s/step - loss: 0.4172 - accuracy: 0.8173 - val_loss: 0.6372 - val_accuracy: 0.6791\n",
            "Epoch 5/10\n",
            "13/13 [==============================] - 26s 2s/step - loss: 0.4089 - accuracy: 0.7692 - val_loss: 0.6284 - val_accuracy: 0.6791\n",
            "Epoch 6/10\n",
            "13/13 [==============================] - 27s 2s/step - loss: 0.3682 - accuracy: 0.8221 - val_loss: 0.6415 - val_accuracy: 0.6791\n",
            "Epoch 7/10\n",
            "13/13 [==============================] - 24s 2s/step - loss: 0.3227 - accuracy: 0.8630 - val_loss: 0.6391 - val_accuracy: 0.6791\n",
            "Epoch 8/10\n",
            "13/13 [==============================] - 28s 2s/step - loss: 0.3084 - accuracy: 0.8630 - val_loss: 0.6460 - val_accuracy: 0.6791\n",
            "Epoch 9/10\n",
            "13/13 [==============================] - 27s 2s/step - loss: 0.3122 - accuracy: 0.8702 - val_loss: 0.6856 - val_accuracy: 0.6791\n",
            "Epoch 10/10\n",
            "13/13 [==============================] - 28s 2s/step - loss: 0.2753 - accuracy: 0.8918 - val_loss: 0.6461 - val_accuracy: 0.6791\n"
          ]
        },
        {
          "output_type": "execute_result",
          "data": {
            "text/plain": [
              "<keras.src.callbacks.History at 0x7e7b32f0aa40>"
            ]
          },
          "metadata": {},
          "execution_count": 13
        }
      ]
    },
    {
      "cell_type": "markdown",
      "source": [
        "## Model Subclassing"
      ],
      "metadata": {
        "id": "1UnO0iX2_WeA"
      }
    },
    {
      "cell_type": "code",
      "source": [
        "class feature_extractor(Layer):\n",
        "  def __init__(self, input_shape):\n",
        "    super(feature_extractor, self).__init__()\n",
        "    self.conv1 = Conv2D(filters = 16, kernel_size = 3, strides = 1, padding = 'valid', activation = 'relu', input_shape = input_shape)\n",
        "    self.maxpool1 = MaxPooling2D(pool_size = 2)\n",
        "    self.batchnorm1 = BatchNormalization()\n",
        "\n",
        "    self.conv2 = Conv2D(filters = 32, kernel_size = 3, strides = 1, padding = 'valid', activation = 'relu')\n",
        "    self.maxpool2 = MaxPooling2D(pool_size = 2)\n",
        "    self.batchnorm2 = BatchNormalization()\n",
        "\n",
        "  def call(self, x):\n",
        "    x = self.conv1(x)\n",
        "    x = self.maxpool1(x)\n",
        "    x = self.batchnorm1(x)\n",
        "\n",
        "    x = self.conv2(x)\n",
        "    x = self.maxpool2(x)\n",
        "    x = self.batchnorm2(x)\n",
        "    return x\n"
      ],
      "metadata": {
        "id": "oWLEXSR3_bd6"
      },
      "execution_count": 36,
      "outputs": []
    },
    {
      "cell_type": "code",
      "source": [
        "input = Input(shape = (224, 224, 3))\n",
        "\n",
        "x = feature_extractor(input_shape = (224, 224, 3))(input)\n",
        "x = Flatten()(x)\n",
        "output = Dense(2, activation = 'softmax')(x)\n",
        "model = Model(inputs = input, outputs = output)\n",
        "model.summary()"
      ],
      "metadata": {
        "colab": {
          "base_uri": "https://localhost:8080/"
        },
        "id": "V7sbhA9EHW3B",
        "outputId": "4b7b6d51-de39-431d-aa12-d8b276957e9d"
      },
      "execution_count": 40,
      "outputs": [
        {
          "output_type": "stream",
          "name": "stdout",
          "text": [
            "Model: \"model\"\n",
            "_________________________________________________________________\n",
            " Layer (type)                Output Shape              Param #   \n",
            "=================================================================\n",
            " input_2 (InputLayer)        [(None, 224, 224, 3)]     0         \n",
            "                                                                 \n",
            " feature_extractor_7 (featu  (None, 54, 54, 32)        5280      \n",
            " re_extractor)                                                   \n",
            "                                                                 \n",
            " flatten_8 (Flatten)         (None, 93312)             0         \n",
            "                                                                 \n",
            " dense_16 (Dense)            (None, 2)                 186626    \n",
            "                                                                 \n",
            "=================================================================\n",
            "Total params: 191906 (749.63 KB)\n",
            "Trainable params: 191810 (749.26 KB)\n",
            "Non-trainable params: 96 (384.00 Byte)\n",
            "_________________________________________________________________\n"
          ]
        }
      ]
    },
    {
      "cell_type": "code",
      "source": [
        "class my_model(Model):\n",
        "  def __init__(self):\n",
        "    super(my_model, self).__init__()\n",
        "    self.extractor = feature_extractor(input_shape = (224, 224, 3))\n",
        "    self.flatten = Flatten()\n",
        "    self.fc2 = Dense(128, activation = 'relu')\n",
        "    self.batchnorm = BatchNormalization()\n",
        "    self.fc3 = Dense(2, activation = 'softmax')\n",
        "\n",
        "  def call(self, x):\n",
        "    x = self.extractor(x)\n",
        "    x = self.flatten(x)\n",
        "    x = self.fc2(x)\n",
        "    x = self.batchnorm(x)\n",
        "    x = self.fc3(x)\n",
        "    return x\n"
      ],
      "metadata": {
        "id": "BqEHgSoo24nF"
      },
      "execution_count": 41,
      "outputs": []
    },
    {
      "cell_type": "code",
      "source": [
        "model = my_model()\n",
        "model.build((None, 224, 224, 3))\n",
        "model.summary()\n",
        "model.compile(optimizer = 'Adam', loss = 'categorical_crossentropy', metrics = 'accuracy')"
      ],
      "metadata": {
        "colab": {
          "base_uri": "https://localhost:8080/"
        },
        "id": "0o6RO6_k46Rc",
        "outputId": "88790c5f-eace-4ca4-e8f1-23fdd14d06a5"
      },
      "execution_count": 43,
      "outputs": [
        {
          "output_type": "stream",
          "name": "stdout",
          "text": [
            "Model: \"my_model_7\"\n",
            "_________________________________________________________________\n",
            " Layer (type)                Output Shape              Param #   \n",
            "=================================================================\n",
            " feature_extractor_9 (featu  multiple                  5280      \n",
            " re_extractor)                                                   \n",
            "                                                                 \n",
            " flatten_10 (Flatten)        multiple                  0         \n",
            "                                                                 \n",
            " dense_19 (Dense)            multiple                  11944064  \n",
            "                                                                 \n",
            " batch_normalization_29 (Ba  multiple                  512       \n",
            " tchNormalization)                                               \n",
            "                                                                 \n",
            " dense_20 (Dense)            multiple                  258       \n",
            "                                                                 \n",
            "=================================================================\n",
            "Total params: 11950114 (45.59 MB)\n",
            "Trainable params: 11949762 (45.58 MB)\n",
            "Non-trainable params: 352 (1.38 KB)\n",
            "_________________________________________________________________\n"
          ]
        }
      ]
    },
    {
      "cell_type": "code",
      "source": [
        "h = model.fit(training_set, batch_size = 32, epochs = 10, validation_data = test_set, verbose = 1)"
      ],
      "metadata": {
        "colab": {
          "base_uri": "https://localhost:8080/"
        },
        "id": "gE2j3R0-77Vs",
        "outputId": "3c3734ae-7505-46ca-b1c5-abac17dea060"
      },
      "execution_count": 44,
      "outputs": [
        {
          "output_type": "stream",
          "name": "stdout",
          "text": [
            "Epoch 1/10\n",
            "13/13 [==============================] - 32s 2s/step - loss: 1.3915 - accuracy: 0.6659 - val_loss: 1.9147 - val_accuracy: 0.6716\n",
            "Epoch 2/10\n",
            "13/13 [==============================] - 30s 2s/step - loss: 0.6853 - accuracy: 0.7572 - val_loss: 0.8251 - val_accuracy: 0.6791\n",
            "Epoch 3/10\n",
            "13/13 [==============================] - 30s 2s/step - loss: 0.5942 - accuracy: 0.7644 - val_loss: 0.6826 - val_accuracy: 0.6791\n",
            "Epoch 4/10\n",
            "13/13 [==============================] - 30s 2s/step - loss: 0.4128 - accuracy: 0.7933 - val_loss: 0.6957 - val_accuracy: 0.6791\n",
            "Epoch 5/10\n",
            "13/13 [==============================] - 30s 2s/step - loss: 0.3601 - accuracy: 0.8245 - val_loss: 0.6837 - val_accuracy: 0.6791\n",
            "Epoch 6/10\n",
            "13/13 [==============================] - 30s 2s/step - loss: 0.3741 - accuracy: 0.8197 - val_loss: 0.6942 - val_accuracy: 0.6791\n",
            "Epoch 7/10\n",
            "13/13 [==============================] - 28s 2s/step - loss: 0.3116 - accuracy: 0.8630 - val_loss: 0.6850 - val_accuracy: 0.5970\n",
            "Epoch 8/10\n",
            "13/13 [==============================] - 30s 2s/step - loss: 0.3297 - accuracy: 0.8510 - val_loss: 0.6430 - val_accuracy: 0.6567\n",
            "Epoch 9/10\n",
            "13/13 [==============================] - 28s 2s/step - loss: 0.3248 - accuracy: 0.8510 - val_loss: 0.7050 - val_accuracy: 0.6791\n",
            "Epoch 10/10\n",
            "13/13 [==============================] - 29s 2s/step - loss: 0.3053 - accuracy: 0.8582 - val_loss: 0.6752 - val_accuracy: 0.6716\n"
          ]
        }
      ]
    },
    {
      "cell_type": "code",
      "source": [
        "plt.plot(h.history['loss'], c = 'yellow', label = 'train')\n",
        "plt.plot(h.history['val_loss'], c = 'blue', label = 'test')\n",
        "plt.ylabel('loss')\n",
        "plt.xlabel('epochs')\n",
        "plt.legend()\n",
        "plt.show()"
      ],
      "metadata": {
        "colab": {
          "base_uri": "https://localhost:8080/",
          "height": 449
        },
        "id": "wV1nwGeG8LJx",
        "outputId": "b7e06fda-0da5-445f-a66d-f05c3a6b269f"
      },
      "execution_count": 50,
      "outputs": [
        {
          "output_type": "display_data",
          "data": {
            "text/plain": [
              "<Figure size 640x480 with 1 Axes>"
            ],
            "image/png": "[encoded data removed]"
          },
          "metadata": {}
        }
      ]
    }
  ]
}
